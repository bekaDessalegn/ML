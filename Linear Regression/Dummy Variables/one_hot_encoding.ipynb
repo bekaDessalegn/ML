{
 "cells": [
  {
   "cell_type": "code",
   "execution_count": null,
   "id": "883f5e46-804a-46ff-b2ee-dbcb9f85982e",
   "metadata": {},
   "outputs": [],
   "source": []
  }
 ],
 "metadata": {
  "kernelspec": {
   "display_name": "Python 3 (ipykernel)",
   "language": "python",
   "name": "python3"
  },
  "language_info": {
   "codemirror_mode": {
    "name": "ipython",
    "version": 3
   },
   "file_extension": ".py",
   "mimetype": "text/x-python",
   "name": "python",
   "nbconvert_exporter": "python",
   "pygments_lexer": "ipython3",
   "version": "3.9.13"
  }
 },
 "nbformat": 4,
 "nbformat_minor": 5
}
