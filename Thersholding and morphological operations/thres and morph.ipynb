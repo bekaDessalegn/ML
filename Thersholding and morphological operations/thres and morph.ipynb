{
 "cells": [
  {
   "cell_type": "code",
   "execution_count": 1,
   "id": "557ec580-b6b1-40b1-b3e6-66d048f37ced",
   "metadata": {},
   "outputs": [],
   "source": [
    "import cv2\n",
    "import numpy as np\n",
    "from matplotlib import pyplot as plt"
   ]
  },
  {
   "cell_type": "code",
   "execution_count": 38,
   "id": "5179966b-3229-446e-8b66-943270891b1a",
   "metadata": {},
   "outputs": [],
   "source": [
    "img = cv2.imread(\"images/56.jpg\", 0)"
   ]
  },
  {
   "cell_type": "code",
   "execution_count": 34,
   "id": "03d6688e-867e-4dba-a320-aa7066467313",
   "metadata": {},
   "outputs": [],
   "source": [
    "cv2.imshow(\"Original Image\", img)\n",
    "cv2.waitKey(0)\n",
    "cv2.destroyAllWindows()"
   ]
  },
  {
   "cell_type": "code",
   "execution_count": 35,
   "id": "ab70da82-32b0-469f-8b26-65b102eead30",
   "metadata": {},
   "outputs": [
    {
     "data": {
      "text/plain": [
       "(array([0.00000e+00, 0.00000e+00, 0.00000e+00, 0.00000e+00, 0.00000e+00,\n",
       "        0.00000e+00, 0.00000e+00, 0.00000e+00, 0.00000e+00, 0.00000e+00,\n",
       "        0.00000e+00, 0.00000e+00, 1.00000e+00, 5.00000e+00, 1.40000e+01,\n",
       "        2.00000e+01, 1.12000e+02, 4.33000e+02, 2.77300e+03, 4.77300e+03,\n",
       "        1.16000e+04, 1.70230e+04, 1.48960e+04, 2.52130e+04, 1.57160e+04,\n",
       "        2.38490e+04, 1.69430e+04, 2.81290e+04, 2.20040e+04, 3.85370e+04,\n",
       "        4.09120e+04, 2.63700e+04, 3.77770e+04, 2.39320e+04, 3.45490e+04,\n",
       "        2.23660e+04, 3.29400e+04, 2.11720e+04, 2.87690e+04, 1.74930e+04,\n",
       "        2.37620e+04, 2.16330e+04, 1.33250e+04, 1.80990e+04, 1.11730e+04,\n",
       "        1.57040e+04, 1.00310e+04, 1.44590e+04, 9.54900e+03, 1.43480e+04,\n",
       "        1.38830e+04, 8.71200e+03, 1.30350e+04, 8.84400e+03, 1.48950e+04,\n",
       "        9.77100e+03, 1.34080e+04, 8.34000e+03, 1.24820e+04, 7.76700e+03,\n",
       "        1.07750e+04, 1.21720e+04, 1.03580e+04, 2.77050e+04, 2.44070e+04,\n",
       "        3.34030e+04, 2.06310e+04, 2.98610e+04, 1.89710e+04, 3.01530e+04,\n",
       "        3.07280e+04, 2.00640e+04, 2.69260e+04, 1.76990e+04, 3.02640e+04,\n",
       "        2.35830e+04, 3.39880e+04, 2.09620e+04, 2.91900e+04, 2.10940e+04,\n",
       "        4.07560e+04, 3.47150e+04, 1.75730e+04, 4.45250e+04, 4.78160e+04,\n",
       "        7.33860e+04, 5.23380e+04, 1.02977e+05, 7.21280e+04, 9.97510e+04,\n",
       "        8.36310e+04, 4.29670e+04, 7.03440e+04, 5.18150e+04, 1.74980e+04,\n",
       "        3.89000e+02, 4.80000e+01, 1.00000e+01, 8.00000e+00, 2.00000e+00]),\n",
       " array([  0.  ,   2.55,   5.1 ,   7.65,  10.2 ,  12.75,  15.3 ,  17.85,\n",
       "         20.4 ,  22.95,  25.5 ,  28.05,  30.6 ,  33.15,  35.7 ,  38.25,\n",
       "         40.8 ,  43.35,  45.9 ,  48.45,  51.  ,  53.55,  56.1 ,  58.65,\n",
       "         61.2 ,  63.75,  66.3 ,  68.85,  71.4 ,  73.95,  76.5 ,  79.05,\n",
       "         81.6 ,  84.15,  86.7 ,  89.25,  91.8 ,  94.35,  96.9 ,  99.45,\n",
       "        102.  , 104.55, 107.1 , 109.65, 112.2 , 114.75, 117.3 , 119.85,\n",
       "        122.4 , 124.95, 127.5 , 130.05, 132.6 , 135.15, 137.7 , 140.25,\n",
       "        142.8 , 145.35, 147.9 , 150.45, 153.  , 155.55, 158.1 , 160.65,\n",
       "        163.2 , 165.75, 168.3 , 170.85, 173.4 , 175.95, 178.5 , 181.05,\n",
       "        183.6 , 186.15, 188.7 , 191.25, 193.8 , 196.35, 198.9 , 201.45,\n",
       "        204.  , 206.55, 209.1 , 211.65, 214.2 , 216.75, 219.3 , 221.85,\n",
       "        224.4 , 226.95, 229.5 , 232.05, 234.6 , 237.15, 239.7 , 242.25,\n",
       "        244.8 , 247.35, 249.9 , 252.45, 255.  ]),\n",
       " <BarContainer object of 100 artists>)"
      ]
     },
     "execution_count": 35,
     "metadata": {},
     "output_type": "execute_result"
    },
    {
     "data": {
      "image/png": "[encoded data removed]",
      "text/plain": [
       "<Figure size 640x480 with 1 Axes>"
      ]
     },
     "metadata": {},
     "output_type": "display_data"
    }
   ],
   "source": [
    "plt.hist(img.flat, bins=100, range=(0, 255))"
   ]
  },
  {
   "cell_type": "code",
   "execution_count": 36,
   "id": "d5ec0d3a-b7d9-48b1-ae3b-f4ebdc529924",
   "metadata": {},
   "outputs": [],
   "source": [
    "ret, th = cv2.threshold(img, 0, 255, cv2.THRESH_BINARY+cv2.THRESH_OTSU)\n",
    "cv2.imshow(\"OTSU Image\", th)\n",
    "cv2.waitKey(0)\n",
    "cv2.destroyAllWindows()"
   ]
  },
  {
   "cell_type": "code",
   "execution_count": 14,
   "id": "d4cf83ca-1cc6-4259-a2e4-8fc059727bf3",
   "metadata": {},
   "outputs": [
    {
     "data": {
      "text/plain": [
       "array([[1, 1, 1],\n",
       "       [1, 1, 1],\n",
       "       [1, 1, 1]], dtype=uint8)"
      ]
     },
     "execution_count": 14,
     "metadata": {},
     "output_type": "execute_result"
    }
   ],
   "source": [
    "kernel = np.ones((3,3), np.uint8)\n",
    "kernel"
   ]
  },
  {
   "cell_type": "code",
   "execution_count": 25,
   "id": "057448db-9ae1-43ff-b4b2-9847b15ca3a6",
   "metadata": {},
   "outputs": [],
   "source": [
    "erosion = cv2.erode(th, kernel, iterations=1)\n",
    "dilation = cv2.dilate(erosion, kernel, iterations=1)\n",
    "opening = cv2.morphologyEx(th, cv2.MORPH_OPEN, kernel)\n",
    "# cv2.imshow(\"OTSU Image\", th)\n",
    "# cv2.imshow(\"Eroded Image\", erosion)\n",
    "cv2.imshow(\"Dilated Image\", dilation)\n",
    "cv2.imshow(\"Opened Image\", opening)\n",
    "cv2.waitKey(0)\n",
    "cv2.destroyAllWindows()"
   ]
  },
  {
   "cell_type": "code",
   "execution_count": 40,
   "id": "d9e57de6-3101-4b97-bfac-5adf99d922f6",
   "metadata": {},
   "outputs": [],
   "source": [
    "median = cv2.medianBlur(img, 3)\n",
    "ret, th = cv2.threshold(median, 0, 255, cv2.THRESH_BINARY+cv2.THRESH_OTSU)\n",
    "cv2.imshow(\"Original Image\", img)\n",
    "cv2.imshow(\"Median Image\", median)\n",
    "cv2.imshow(\"Thresholded Image\", th)\n",
    "cv2.waitKey(0)\n",
    "cv2.destroyAllWindows()"
   ]
  },
  {
   "cell_type": "code",
   "execution_count": null,
   "id": "b00e8e90-b941-48bf-a3fa-ca11f2cd6bd5",
   "metadata": {},
   "outputs": [],
   "source": []
  }
 ],
 "metadata": {
  "kernelspec": {
   "display_name": "Python 3 (ipykernel)",
   "language": "python",
   "name": "python3"
  },
  "language_info": {
   "codemirror_mode": {
    "name": "ipython",
    "version": 3
   },
   "file_extension": ".py",
   "mimetype": "text/x-python",
   "name": "python",
   "nbconvert_exporter": "python",
   "pygments_lexer": "ipython3",
   "version": "3.9.13"
  }
 },
 "nbformat": 4,
 "nbformat_minor": 5
}
