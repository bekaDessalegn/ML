{
 "cells": [
  {
   "cell_type": "code",
   "execution_count": 1,
   "id": "af049996-7015-4a34-b8ad-8292d3aa45e7",
   "metadata": {},
   "outputs": [],
   "source": [
    "import numpy as np\n",
    "import cv2"
   ]
  },
  {
   "cell_type": "code",
   "execution_count": 3,
   "id": "f12831a6-1105-4b1d-b24e-1969c616542b",
   "metadata": {},
   "outputs": [],
   "source": [
    "img = cv2.imread(\"image/56.jpg\")\n",
    "\n",
    "img2 = img.reshape((-1, 3))"
   ]
  },
  {
   "cell_type": "code",
   "execution_count": 11,
   "id": "23e051d5-f00e-48d6-b3de-6dc0ec52082a",
   "metadata": {},
   "outputs": [],
   "source": [
    "from sklearn.mixture import GaussianMixture as GMM\n",
    "gmm_model = GMM(n_components=10, covariance_type='tied').fit(img2)\n",
    "gmm_labels = gmm_model.predict(img2)"
   ]
  },
  {
   "cell_type": "code",
   "execution_count": 12,
   "id": "25cca0dc-48ab-4847-abbf-c767766dd6f9",
   "metadata": {},
   "outputs": [
    {
     "data": {
      "text/plain": [
       "True"
      ]
     },
     "execution_count": 12,
     "metadata": {},
     "output_type": "execute_result"
    }
   ],
   "source": [
    "original_shape = img.shape\n",
    "segmented = gmm_labels.reshape(original_shape[0], original_shape[1])\n",
    "cv2.imwrite(\"segmented_56.jpg\", segmented)"
   ]
  },
  {
   "cell_type": "code",
   "execution_count": null,
   "id": "6921eca7-9470-4d97-8857-20bfbe4d042e",
   "metadata": {},
   "outputs": [],
   "source": []
  }
 ],
 "metadata": {
  "kernelspec": {
   "display_name": "Python 3 (ipykernel)",
   "language": "python",
   "name": "python3"
  },
  "language_info": {
   "codemirror_mode": {
    "name": "ipython",
    "version": 3
   },
   "file_extension": ".py",
   "mimetype": "text/x-python",
   "name": "python",
   "nbconvert_exporter": "python",
   "pygments_lexer": "ipython3",
   "version": "3.9.13"
  }
 },
 "nbformat": 4,
 "nbformat_minor": 5
}
