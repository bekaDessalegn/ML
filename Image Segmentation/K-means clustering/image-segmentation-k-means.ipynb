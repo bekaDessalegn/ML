{
 "cells": [
  {
   "cell_type": "code",
   "execution_count": 1,
   "id": "6216f60b-af25-4258-95ff-4ee0e423633a",
   "metadata": {},
   "outputs": [],
   "source": [
    "import numpy as np\n",
    "import cv2"
   ]
  },
  {
   "cell_type": "code",
   "execution_count": 7,
   "id": "326700fd-0017-4972-80ab-43538801c9ec",
   "metadata": {},
   "outputs": [],
   "source": [
    "img = cv2.imread('image/56.jpg')"
   ]
  },
  {
   "cell_type": "code",
   "execution_count": 8,
   "id": "e08396c1-d8e7-4fa8-a957-3e7a8b7f681d",
   "metadata": {},
   "outputs": [],
   "source": [
    "img2 = img.reshape((-1, 3))"
   ]
  },
  {
   "cell_type": "code",
   "execution_count": 9,
   "id": "3195094c-4a2b-4c91-a1f0-8b2c853d5b84",
   "metadata": {},
   "outputs": [],
   "source": [
    "img2 =np.float32(img2)"
   ]
  },
  {
   "cell_type": "code",
   "execution_count": 25,
   "id": "7b057af3-e73c-4ccc-b058-8543acb3b4d8",
   "metadata": {},
   "outputs": [],
   "source": [
    "criteria = (cv2.TERM_CRITERIA_EPS + cv2.TERM_CRITERIA_MAX_ITER, 10, 1.0)\n",
    "\n",
    "k = 10\n",
    "attempts = 10"
   ]
  },
  {
   "cell_type": "code",
   "execution_count": 26,
   "id": "a144c1ad-a918-4281-a8c1-25facd650b3f",
   "metadata": {},
   "outputs": [],
   "source": [
    "ret,label,center=cv2.kmeans(img2,k,None,criteria,attempts,cv2.KMEANS_PP_CENTERS)"
   ]
  },
  {
   "cell_type": "code",
   "execution_count": 27,
   "id": "187c34eb-ebd6-4459-8a3d-3842d8b03e9a",
   "metadata": {},
   "outputs": [],
   "source": [
    "center = np.uint8(center)\n",
    "res = center[label.flatten()]\n",
    "res2 = res.reshape((img.shape))"
   ]
  },
  {
   "cell_type": "code",
   "execution_count": 28,
   "id": "6fb93de9-aeeb-4ac0-a3c6-a668e3bc7066",
   "metadata": {},
   "outputs": [
    {
     "data": {
      "text/plain": [
       "True"
      ]
     },
     "execution_count": 28,
     "metadata": {},
     "output_type": "execute_result"
    }
   ],
   "source": [
    "cv2.imwrite('56_segmented.jpg', res2)"
   ]
  },
  {
   "cell_type": "code",
   "execution_count": null,
   "id": "4c34d4d9-2eb1-4895-b01a-03b31e4009c5",
   "metadata": {},
   "outputs": [],
   "source": []
  }
 ],
 "metadata": {
  "kernelspec": {
   "display_name": "Python 3 (ipykernel)",
   "language": "python",
   "name": "python3"
  },
  "language_info": {
   "codemirror_mode": {
    "name": "ipython",
    "version": 3
   },
   "file_extension": ".py",
   "mimetype": "text/x-python",
   "name": "python",
   "nbconvert_exporter": "python",
   "pygments_lexer": "ipython3",
   "version": "3.9.13"
  }
 },
 "nbformat": 4,
 "nbformat_minor": 5
}
